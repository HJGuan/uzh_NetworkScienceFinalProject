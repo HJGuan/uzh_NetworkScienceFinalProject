{
 "cells": [
  {
   "cell_type": "markdown",
   "id": "ac887e70",
   "metadata": {},
   "source": [
    "# Network Science Final Project"
   ]
  },
  {
   "cell_type": "markdown",
   "id": "35a174b5",
   "metadata": {},
   "source": [
    "## 1. Data preprocessing"
   ]
  },
  {
   "cell_type": "code",
   "execution_count": 30,
   "id": "e25108a6",
   "metadata": {},
   "outputs": [],
   "source": [
    "import pandas as pd\n",
    "import numpy as np\n",
    "import networkx as nx\n",
    "import re\n",
    "import warnings\n",
    "warnings.simplefilter('ignore')"
   ]
  },
  {
   "cell_type": "code",
   "execution_count": 2,
   "id": "df5c77f4",
   "metadata": {},
   "outputs": [
    {
     "name": "stdout",
     "output_type": "stream",
     "text": [
      "df_routes is in the shape of (67663, 9)\n"
     ]
    },
    {
     "data": {
      "text/html": [
       "<div>\n",
       "<style scoped>\n",
       "    .dataframe tbody tr th:only-of-type {\n",
       "        vertical-align: middle;\n",
       "    }\n",
       "\n",
       "    .dataframe tbody tr th {\n",
       "        vertical-align: top;\n",
       "    }\n",
       "\n",
       "    .dataframe thead th {\n",
       "        text-align: right;\n",
       "    }\n",
       "</style>\n",
       "<table border=\"1\" class=\"dataframe\">\n",
       "  <thead>\n",
       "    <tr style=\"text-align: right;\">\n",
       "      <th></th>\n",
       "      <th>0</th>\n",
       "      <th>1</th>\n",
       "      <th>2</th>\n",
       "      <th>3</th>\n",
       "      <th>4</th>\n",
       "      <th>5</th>\n",
       "      <th>6</th>\n",
       "      <th>7</th>\n",
       "      <th>8</th>\n",
       "    </tr>\n",
       "  </thead>\n",
       "  <tbody>\n",
       "    <tr>\n",
       "      <th>0</th>\n",
       "      <td>2B</td>\n",
       "      <td>410</td>\n",
       "      <td>AER</td>\n",
       "      <td>2965</td>\n",
       "      <td>KZN</td>\n",
       "      <td>2990</td>\n",
       "      <td>NaN</td>\n",
       "      <td>0</td>\n",
       "      <td>CR2</td>\n",
       "    </tr>\n",
       "    <tr>\n",
       "      <th>1</th>\n",
       "      <td>2B</td>\n",
       "      <td>410</td>\n",
       "      <td>ASF</td>\n",
       "      <td>2966</td>\n",
       "      <td>KZN</td>\n",
       "      <td>2990</td>\n",
       "      <td>NaN</td>\n",
       "      <td>0</td>\n",
       "      <td>CR2</td>\n",
       "    </tr>\n",
       "    <tr>\n",
       "      <th>2</th>\n",
       "      <td>2B</td>\n",
       "      <td>410</td>\n",
       "      <td>ASF</td>\n",
       "      <td>2966</td>\n",
       "      <td>MRV</td>\n",
       "      <td>2962</td>\n",
       "      <td>NaN</td>\n",
       "      <td>0</td>\n",
       "      <td>CR2</td>\n",
       "    </tr>\n",
       "    <tr>\n",
       "      <th>3</th>\n",
       "      <td>2B</td>\n",
       "      <td>410</td>\n",
       "      <td>CEK</td>\n",
       "      <td>2968</td>\n",
       "      <td>KZN</td>\n",
       "      <td>2990</td>\n",
       "      <td>NaN</td>\n",
       "      <td>0</td>\n",
       "      <td>CR2</td>\n",
       "    </tr>\n",
       "    <tr>\n",
       "      <th>4</th>\n",
       "      <td>2B</td>\n",
       "      <td>410</td>\n",
       "      <td>CEK</td>\n",
       "      <td>2968</td>\n",
       "      <td>OVB</td>\n",
       "      <td>4078</td>\n",
       "      <td>NaN</td>\n",
       "      <td>0</td>\n",
       "      <td>CR2</td>\n",
       "    </tr>\n",
       "  </tbody>\n",
       "</table>\n",
       "</div>"
      ],
      "text/plain": [
       "    0    1    2     3    4     5    6  7    8\n",
       "0  2B  410  AER  2965  KZN  2990  NaN  0  CR2\n",
       "1  2B  410  ASF  2966  KZN  2990  NaN  0  CR2\n",
       "2  2B  410  ASF  2966  MRV  2962  NaN  0  CR2\n",
       "3  2B  410  CEK  2968  KZN  2990  NaN  0  CR2\n",
       "4  2B  410  CEK  2968  OVB  4078  NaN  0  CR2"
      ]
     },
     "execution_count": 2,
     "metadata": {},
     "output_type": "execute_result"
    }
   ],
   "source": [
    "# import dat files as dataframes\n",
    "df_routes = pd.read_table(r\"data\\openFlights_airline\\routes.dat.txt\", sep=\",\", header=None )\n",
    "df_airline = pd.read_table(r\"data\\openFlights_airline\\airlines.dat.txt\", sep=\",\", header=None )\n",
    "df_planes = pd.read_table(r\"data\\openFlights_airline\\planes.dat.txt\", sep=\",\", header=None )\n",
    "df_airports = pd.read_table(r\"data\\openFlights_airline\\airports.dat.txt\", sep=\",\", header=None )\n",
    "print(f\"df_routes is in the shape of {df_routes.shape}\")\n",
    "df_routes.head(5)"
   ]
  },
  {
   "cell_type": "code",
   "execution_count": 3,
   "id": "907a0c90",
   "metadata": {},
   "outputs": [
    {
     "data": {
      "text/html": [
       "<div>\n",
       "<style scoped>\n",
       "    .dataframe tbody tr th:only-of-type {\n",
       "        vertical-align: middle;\n",
       "    }\n",
       "\n",
       "    .dataframe tbody tr th {\n",
       "        vertical-align: top;\n",
       "    }\n",
       "\n",
       "    .dataframe thead th {\n",
       "        text-align: right;\n",
       "    }\n",
       "</style>\n",
       "<table border=\"1\" class=\"dataframe\">\n",
       "  <thead>\n",
       "    <tr style=\"text-align: right;\">\n",
       "      <th></th>\n",
       "      <th>code</th>\n",
       "      <th>ID</th>\n",
       "      <th>Source_airport</th>\n",
       "      <th>Source_airport_ID</th>\n",
       "      <th>Des_airport</th>\n",
       "      <th>Des_airport_ID</th>\n",
       "      <th>Codeshare</th>\n",
       "      <th>Stops</th>\n",
       "      <th>Equipment</th>\n",
       "    </tr>\n",
       "  </thead>\n",
       "  <tbody>\n",
       "    <tr>\n",
       "      <th>0</th>\n",
       "      <td>2B</td>\n",
       "      <td>410</td>\n",
       "      <td>AER</td>\n",
       "      <td>2965</td>\n",
       "      <td>KZN</td>\n",
       "      <td>2990</td>\n",
       "      <td>NaN</td>\n",
       "      <td>0</td>\n",
       "      <td>CR2</td>\n",
       "    </tr>\n",
       "    <tr>\n",
       "      <th>1</th>\n",
       "      <td>2B</td>\n",
       "      <td>410</td>\n",
       "      <td>ASF</td>\n",
       "      <td>2966</td>\n",
       "      <td>KZN</td>\n",
       "      <td>2990</td>\n",
       "      <td>NaN</td>\n",
       "      <td>0</td>\n",
       "      <td>CR2</td>\n",
       "    </tr>\n",
       "    <tr>\n",
       "      <th>2</th>\n",
       "      <td>2B</td>\n",
       "      <td>410</td>\n",
       "      <td>ASF</td>\n",
       "      <td>2966</td>\n",
       "      <td>MRV</td>\n",
       "      <td>2962</td>\n",
       "      <td>NaN</td>\n",
       "      <td>0</td>\n",
       "      <td>CR2</td>\n",
       "    </tr>\n",
       "  </tbody>\n",
       "</table>\n",
       "</div>"
      ],
      "text/plain": [
       "  code   ID Source_airport Source_airport_ID Des_airport Des_airport_ID  \\\n",
       "0   2B  410            AER              2965         KZN           2990   \n",
       "1   2B  410            ASF              2966         KZN           2990   \n",
       "2   2B  410            ASF              2966         MRV           2962   \n",
       "\n",
       "  Codeshare  Stops Equipment  \n",
       "0       NaN      0       CR2  \n",
       "1       NaN      0       CR2  \n",
       "2       NaN      0       CR2  "
      ]
     },
     "execution_count": 3,
     "metadata": {},
     "output_type": "execute_result"
    }
   ],
   "source": [
    "# set the correct column names according to the information from the data source\n",
    "df_routes.columns =['code','ID','Source_airport','Source_airport_ID','Des_airport','Des_airport_ID','Codeshare','Stops','Equipment']\n",
    "df_airline.columns =['Airline ID','Name','Alias','IATA','ICAO','Callsign','Country','Active']\n",
    "df_planes.columns =['name','iso_code','dafif_code']\n",
    "df_airports.columns =['Airport ID','Name','City','Country','IATA','ICAO','Latitude','Longitude','Altitude','Timezone','DST','Tz_database_time','Type','Source']\n",
    "df_routes.head(3)"
   ]
  },
  {
   "cell_type": "code",
   "execution_count": 7,
   "id": "ca656db5",
   "metadata": {},
   "outputs": [
    {
     "name": "stdout",
     "output_type": "stream",
     "text": [
      "df_routes_missing is in the shape of (898, 8)\n"
     ]
    },
    {
     "name": "stderr",
     "output_type": "stream",
     "text": [
      "C:\\Users\\Guan\\AppData\\Local\\Temp\\ipykernel_19220\\1819816128.py:1: FutureWarning: In a future version of pandas all arguments of DataFrame.any and Series.any will be keyword-only.\n",
      "  df_routes_missing = df_routes[df_routes.eq(r\"\\N\").any(1)]\n"
     ]
    },
    {
     "data": {
      "text/html": [
       "<div>\n",
       "<style scoped>\n",
       "    .dataframe tbody tr th:only-of-type {\n",
       "        vertical-align: middle;\n",
       "    }\n",
       "\n",
       "    .dataframe tbody tr th {\n",
       "        vertical-align: top;\n",
       "    }\n",
       "\n",
       "    .dataframe thead th {\n",
       "        text-align: right;\n",
       "    }\n",
       "</style>\n",
       "<table border=\"1\" class=\"dataframe\">\n",
       "  <thead>\n",
       "    <tr style=\"text-align: right;\">\n",
       "      <th></th>\n",
       "      <th>code</th>\n",
       "      <th>ID</th>\n",
       "      <th>Source_airport</th>\n",
       "      <th>Source_airport_ID</th>\n",
       "      <th>Des_airport</th>\n",
       "      <th>Des_airport_ID</th>\n",
       "      <th>Stops</th>\n",
       "      <th>Equipment</th>\n",
       "    </tr>\n",
       "  </thead>\n",
       "  <tbody>\n",
       "    <tr>\n",
       "      <th>7</th>\n",
       "      <td>2B</td>\n",
       "      <td>410</td>\n",
       "      <td>DME</td>\n",
       "      <td>4029</td>\n",
       "      <td>TGK</td>\n",
       "      <td>\\N</td>\n",
       "      <td>0</td>\n",
       "      <td>CR2</td>\n",
       "    </tr>\n",
       "    <tr>\n",
       "      <th>38</th>\n",
       "      <td>2B</td>\n",
       "      <td>410</td>\n",
       "      <td>TGK</td>\n",
       "      <td>\\N</td>\n",
       "      <td>DME</td>\n",
       "      <td>4029</td>\n",
       "      <td>0</td>\n",
       "      <td>CR2</td>\n",
       "    </tr>\n",
       "    <tr>\n",
       "      <th>48</th>\n",
       "      <td>2G</td>\n",
       "      <td>1654</td>\n",
       "      <td>IKT</td>\n",
       "      <td>2937</td>\n",
       "      <td>KCK</td>\n",
       "      <td>\\N</td>\n",
       "      <td>0</td>\n",
       "      <td>AN4</td>\n",
       "    </tr>\n",
       "    <tr>\n",
       "      <th>54</th>\n",
       "      <td>2G</td>\n",
       "      <td>1654</td>\n",
       "      <td>KCK</td>\n",
       "      <td>\\N</td>\n",
       "      <td>IKT</td>\n",
       "      <td>2937</td>\n",
       "      <td>0</td>\n",
       "      <td>AN4</td>\n",
       "    </tr>\n",
       "    <tr>\n",
       "      <th>312</th>\n",
       "      <td>3H</td>\n",
       "      <td>\\N</td>\n",
       "      <td>AKV</td>\n",
       "      <td>5506</td>\n",
       "      <td>YIK</td>\n",
       "      <td>5504</td>\n",
       "      <td>0</td>\n",
       "      <td>DH8</td>\n",
       "    </tr>\n",
       "    <tr>\n",
       "      <th>...</th>\n",
       "      <td>...</td>\n",
       "      <td>...</td>\n",
       "      <td>...</td>\n",
       "      <td>...</td>\n",
       "      <td>...</td>\n",
       "      <td>...</td>\n",
       "      <td>...</td>\n",
       "      <td>...</td>\n",
       "    </tr>\n",
       "    <tr>\n",
       "      <th>67469</th>\n",
       "      <td>ZI</td>\n",
       "      <td>21</td>\n",
       "      <td>MLH</td>\n",
       "      <td>\\N</td>\n",
       "      <td>CZL</td>\n",
       "      <td>221</td>\n",
       "      <td>0</td>\n",
       "      <td>320</td>\n",
       "    </tr>\n",
       "    <tr>\n",
       "      <th>67470</th>\n",
       "      <td>ZI</td>\n",
       "      <td>21</td>\n",
       "      <td>MLH</td>\n",
       "      <td>\\N</td>\n",
       "      <td>ORN</td>\n",
       "      <td>231</td>\n",
       "      <td>0</td>\n",
       "      <td>319</td>\n",
       "    </tr>\n",
       "    <tr>\n",
       "      <th>67471</th>\n",
       "      <td>ZI</td>\n",
       "      <td>21</td>\n",
       "      <td>MLH</td>\n",
       "      <td>\\N</td>\n",
       "      <td>QSF</td>\n",
       "      <td>6492</td>\n",
       "      <td>0</td>\n",
       "      <td>320</td>\n",
       "    </tr>\n",
       "    <tr>\n",
       "      <th>67483</th>\n",
       "      <td>ZI</td>\n",
       "      <td>21</td>\n",
       "      <td>ORN</td>\n",
       "      <td>231</td>\n",
       "      <td>MLH</td>\n",
       "      <td>\\N</td>\n",
       "      <td>0</td>\n",
       "      <td>319</td>\n",
       "    </tr>\n",
       "    <tr>\n",
       "      <th>67502</th>\n",
       "      <td>ZI</td>\n",
       "      <td>21</td>\n",
       "      <td>QSF</td>\n",
       "      <td>6492</td>\n",
       "      <td>MLH</td>\n",
       "      <td>\\N</td>\n",
       "      <td>0</td>\n",
       "      <td>320</td>\n",
       "    </tr>\n",
       "  </tbody>\n",
       "</table>\n",
       "<p>898 rows × 8 columns</p>\n",
       "</div>"
      ],
      "text/plain": [
       "      code    ID Source_airport Source_airport_ID Des_airport Des_airport_ID  \\\n",
       "7       2B   410            DME              4029         TGK             \\N   \n",
       "38      2B   410            TGK                \\N         DME           4029   \n",
       "48      2G  1654            IKT              2937         KCK             \\N   \n",
       "54      2G  1654            KCK                \\N         IKT           2937   \n",
       "312     3H    \\N            AKV              5506         YIK           5504   \n",
       "...    ...   ...            ...               ...         ...            ...   \n",
       "67469   ZI    21            MLH                \\N         CZL            221   \n",
       "67470   ZI    21            MLH                \\N         ORN            231   \n",
       "67471   ZI    21            MLH                \\N         QSF           6492   \n",
       "67483   ZI    21            ORN               231         MLH             \\N   \n",
       "67502   ZI    21            QSF              6492         MLH             \\N   \n",
       "\n",
       "       Stops Equipment  \n",
       "7          0       CR2  \n",
       "38         0       CR2  \n",
       "48         0       AN4  \n",
       "54         0       AN4  \n",
       "312        0       DH8  \n",
       "...      ...       ...  \n",
       "67469      0       320  \n",
       "67470      0       319  \n",
       "67471      0       320  \n",
       "67483      0       319  \n",
       "67502      0       320  \n",
       "\n",
       "[898 rows x 8 columns]"
      ]
     },
     "execution_count": 7,
     "metadata": {},
     "output_type": "execute_result"
    }
   ],
   "source": [
    "df_routes_missing = df_routes[df_routes.eq(r\"\\N\").any(1)]\n",
    "print(f\"df_routes_missing is in the shape of {df_routes_missing.shape}\")\n",
    "df_routes_missing "
   ]
  },
  {
   "cell_type": "code",
   "execution_count": 8,
   "id": "d05b0225",
   "metadata": {},
   "outputs": [
    {
     "data": {
      "text/plain": [
       "(423, 8)"
      ]
     },
     "execution_count": 8,
     "metadata": {},
     "output_type": "execute_result"
    }
   ],
   "source": [
    "df_routes_id_missing = df_routes[((df_routes['Source_airport_ID']==r'\\N')|(df_routes['Des_airport_ID']==r'\\N'))]\n",
    "df_routes_id_missing.shape"
   ]
  },
  {
   "cell_type": "code",
   "execution_count": 6,
   "id": "2d9c1f8b",
   "metadata": {},
   "outputs": [
    {
     "name": "stdout",
     "output_type": "stream",
     "text": [
      "df_routes_missing is in the shape of (0, 8)\n"
     ]
    },
    {
     "data": {
      "text/html": [
       "<div>\n",
       "<style scoped>\n",
       "    .dataframe tbody tr th:only-of-type {\n",
       "        vertical-align: middle;\n",
       "    }\n",
       "\n",
       "    .dataframe tbody tr th {\n",
       "        vertical-align: top;\n",
       "    }\n",
       "\n",
       "    .dataframe thead th {\n",
       "        text-align: right;\n",
       "    }\n",
       "</style>\n",
       "<table border=\"1\" class=\"dataframe\">\n",
       "  <thead>\n",
       "    <tr style=\"text-align: right;\">\n",
       "      <th></th>\n",
       "      <th>code</th>\n",
       "      <th>ID</th>\n",
       "      <th>Source_airport</th>\n",
       "      <th>Source_airport_ID</th>\n",
       "      <th>Des_airport</th>\n",
       "      <th>Des_airport_ID</th>\n",
       "      <th>Stops</th>\n",
       "      <th>Equipment</th>\n",
       "    </tr>\n",
       "  </thead>\n",
       "  <tbody>\n",
       "  </tbody>\n",
       "</table>\n",
       "</div>"
      ],
      "text/plain": [
       "Empty DataFrame\n",
       "Columns: [code, ID, Source_airport, Source_airport_ID, Des_airport, Des_airport_ID, Stops, Equipment]\n",
       "Index: []"
      ]
     },
     "execution_count": 6,
     "metadata": {},
     "output_type": "execute_result"
    }
   ],
   "source": [
    "# check the missing or wrong values in the airport data\n",
    "if 'Codeshare' in df_routes:\n",
    "    df_routes = df_routes.drop('Codeshare', axis=1) \n",
    "    \n",
    "iata_ico = r'[A-Z]{3,4}'\n",
    "airportId = r'[0-9]{1,4}'\n",
    "\n",
    "df_routes_missing= df_routes[((~df_routes['Source_airport'].str.match(iata_ico))|(~df_routes['Des_airport'].str.match(iata_ico)))]\n",
    "\n",
    "print(f\"df_routes_missing is in the shape of {df_routes_missing.shape}\")\n",
    "df_routes_missing\n",
    "\n"
   ]
  },
  {
   "cell_type": "markdown",
   "id": "59ea1c11",
   "metadata": {},
   "source": [
    "As shown above, there are 898 entries with missing values and among them, 423 entries has missing values in the column Source_airport_ID and Des_airport_ID, we filled this missing IDs with their airport code. Since there are no missing values in Source_airport and Des_airport, we will use them to build the network."
   ]
  },
  {
   "cell_type": "code",
   "execution_count": 28,
   "id": "6e5a42e7",
   "metadata": {},
   "outputs": [],
   "source": [
    "def replace_missing_IDs(df):\n",
    "    for index, row in df.iterrows(): \n",
    "        if row['Source_airport_ID']==r\"\\N\":\n",
    "            df['Source_airport_ID'][index]=row['Source_airport']+\"_IDs\"\n",
    "        if row['Des_airport_ID']==r\"\\N\":\n",
    "            df['Des_airport_ID'][index]=row['Des_airport']+\"_IDs\""
   ]
  },
  {
   "cell_type": "code",
   "execution_count": 31,
   "id": "17c87087",
   "metadata": {},
   "outputs": [
    {
     "data": {
      "text/plain": [
       "(0, 8)"
      ]
     },
     "execution_count": 31,
     "metadata": {},
     "output_type": "execute_result"
    }
   ],
   "source": [
    "replace_missing_IDs(df_routes)\n",
    "df_routes_id_missing = df_routes[((df_routes['Source_airport_ID']==r'\\N')|(df_routes['Des_airport_ID']==r'\\N'))]\n",
    "df_routes_id_missing.shape"
   ]
  },
  {
   "cell_type": "markdown",
   "id": "df1c684c",
   "metadata": {},
   "source": [
    "## 2. Graph building"
   ]
  },
  {
   "cell_type": "code",
   "execution_count": 36,
   "id": "e56ed704",
   "metadata": {},
   "outputs": [
    {
     "data": {
      "text/plain": [
       "<networkx.classes.digraph.DiGraph at 0x1b334d1bd30>"
      ]
     },
     "execution_count": 36,
     "metadata": {},
     "output_type": "execute_result"
    }
   ],
   "source": [
    "g_routes = nx.from_pandas_edgelist(df_routes, source='Source_airport', target = 'Des_airport',edge_attr=True,\n",
    "                                   create_using=nx.DiGraph())\n",
    "g_routes"
   ]
  },
  {
   "cell_type": "code",
   "execution_count": 38,
   "id": "9eed9075",
   "metadata": {},
   "outputs": [
    {
     "name": "stdout",
     "output_type": "stream",
     "text": [
      "There are 3409 airports as source airports\n",
      "There are 3418 airports as destination airports\n"
     ]
    }
   ],
   "source": [
    "source_airports = df_routes[\"Source_airport_ID\"].unique()\n",
    "des_airports = df_routes[\"Des_airport_ID\"].unique()\n",
    "print(f'There are {len(source_airports)} airports as source airports')\n",
    "print(f'There are {len(des_airports)} airports as destination airports')"
   ]
  },
  {
   "cell_type": "code",
   "execution_count": 39,
   "id": "4da99263",
   "metadata": {},
   "outputs": [
    {
     "name": "stdout",
     "output_type": "stream",
     "text": [
      "The airports only serve as a source airport: {'PTJ', 'IUE', 'STZ', 'VDA', 'SXX', 'LJA', 'MSW'}\n",
      "The airports only serve as a destination airport: {'BVS', 'DLZ', 'MTE', 'KPR', 'TUA', 'UII', 'KYK', 'FMI', 'ORX', 'CZJ', 'SPI', 'KZB', 'BSS', 'KZI', 'CMP', 'QFX'}\n"
     ]
    }
   ],
   "source": [
    "gnode=set(g_routes.nodes())\n",
    "snode=set(df_routes[\"Source_airport\"].unique())\n",
    "dnode=set(df_routes[\"Des_airport\"].unique())\n",
    "print(f'The airports only serve as a source airport: {snode-dnode}')\n",
    "print(f'The airports only serve as a destination airport: {dnode-snode}')"
   ]
  }
 ],
 "metadata": {
  "kernelspec": {
   "display_name": "Python 3 (ipykernel)",
   "language": "python",
   "name": "python3"
  },
  "language_info": {
   "codemirror_mode": {
    "name": "ipython",
    "version": 3
   },
   "file_extension": ".py",
   "mimetype": "text/x-python",
   "name": "python",
   "nbconvert_exporter": "python",
   "pygments_lexer": "ipython3",
   "version": "3.9.13"
  }
 },
 "nbformat": 4,
 "nbformat_minor": 5
}
